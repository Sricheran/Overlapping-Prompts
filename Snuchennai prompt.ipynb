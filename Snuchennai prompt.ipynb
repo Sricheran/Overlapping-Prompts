{
 "cells": [
  {
   "cell_type": "code",
   "execution_count": 4,
   "id": "b9ef66fa",
   "metadata": {},
   "outputs": [
    {
     "name": "stdout",
     "output_type": "stream",
     "text": [
      "Enter the size of each prompt: 4\n",
      "Enter No. of prompts to be added: 7\n"
     ]
    }
   ],
   "source": [
    "a=int(input(\"Enter the size of each prompt: \"))\n",
    "b=int(input(\"Enter No. of prompts to be added: \"))"
   ]
  },
  {
   "cell_type": "code",
   "execution_count": 5,
   "id": "6fc24977",
   "metadata": {},
   "outputs": [],
   "source": [
    "li=[]"
   ]
  },
  {
   "cell_type": "code",
   "execution_count": 8,
   "id": "f14cb862",
   "metadata": {},
   "outputs": [
    {
     "name": "stdout",
     "output_type": "stream",
     "text": [
      "Enter prompt :ABCD\n",
      "Enter prompt :SNU_\n",
      "Enter prompt :U_CH\n",
      "Enter prompt :CHEN\n",
      "Enter prompt :ENNA\n",
      "Enter prompt :NAI.\n",
      "Enter prompt :IJKL\n"
     ]
    }
   ],
   "source": [
    "for i in range(b):\n",
    "    c=str(input(\"Enter prompt :\"))\n",
    "    if len(c)==a:\n",
    "        li.append(c)\n",
    "    else:\n",
    "        print(\"Invalid Input!!!\")"
   ]
  },
  {
   "cell_type": "code",
   "execution_count": 10,
   "id": "6815847a",
   "metadata": {},
   "outputs": [
    {
     "data": {
      "text/plain": [
       "['ABCD', 'SNU_', 'U_CH', 'CHEN', 'ENNA', 'NAI.', 'IJKL']"
      ]
     },
     "execution_count": 10,
     "metadata": {},
     "output_type": "execute_result"
    }
   ],
   "source": [
    "li"
   ]
  },
  {
   "cell_type": "code",
   "execution_count": 11,
   "id": "4846ec28",
   "metadata": {},
   "outputs": [],
   "source": [
    "def compare(li):\n",
    "    li1=[]\n",
    "    li2=[]\n",
    "    for i in range(len(li)-1):\n",
    "        for j in range(len(li[0])):\n",
    "            if li[i][j:]==li[i+1][:-j]:\n",
    "                li2.append(li[i])\n",
    "                li2.append(li[i+1])\n",
    "                li1.append(li[i][j:])\n",
    "            else:\n",
    "                pass\n",
    "    jo=''.join([item for item in li1])\n",
    "    n=len(li1[0])\n",
    "    jo=li2[0][:-n]+jo\n",
    "    res=jo+li2[len(li2)-1][n:]\n",
    "    return li1,res\n"
   ]
  },
  {
   "cell_type": "code",
   "execution_count": 12,
   "id": "de38ee0e",
   "metadata": {},
   "outputs": [
    {
     "name": "stdout",
     "output_type": "stream",
     "text": [
      "The Overlapped elements are: ['U_', 'CH', 'EN', 'NA']\n",
      "Word is: SNU_CHENNAI.\n"
     ]
    }
   ],
   "source": [
    "li,res=compare(li)\n",
    "print(\"The Overlapped elements are:\",li)\n",
    "print(\"Word is:\",res)"
   ]
  },
  {
   "cell_type": "code",
   "execution_count": null,
   "id": "7c0d2231",
   "metadata": {},
   "outputs": [],
   "source": []
  }
 ],
 "metadata": {
  "kernelspec": {
   "display_name": "Python 3 (ipykernel)",
   "language": "python",
   "name": "python3"
  },
  "language_info": {
   "codemirror_mode": {
    "name": "ipython",
    "version": 3
   },
   "file_extension": ".py",
   "mimetype": "text/x-python",
   "name": "python",
   "nbconvert_exporter": "python",
   "pygments_lexer": "ipython3",
   "version": "3.11.3"
  }
 },
 "nbformat": 4,
 "nbformat_minor": 5
}
